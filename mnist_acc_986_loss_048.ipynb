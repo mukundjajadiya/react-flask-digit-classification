{
 "cells": [
  {
   "cell_type": "markdown",
   "metadata": {},
   "source": [
    "# import dependancy"
   ]
  },
  {
   "cell_type": "code",
   "execution_count": 1,
   "metadata": {},
   "outputs": [],
   "source": [
    "import numpy as np\n",
    "import tensorflow as tf\n",
    "from tensorflow import keras\n",
    "from keras.models import Sequential\n",
    "from keras.layers import Activation, Dense, Flatten, BatchNormalization, Conv2D, MaxPooling2D,Dropout\n",
    "from keras.datasets import mnist\n",
    "from tensorflow.keras.optimizers import Adam\n",
    "from matplotlib import  pyplot as plt\n",
    "from keras.callbacks import EarlyStopping"
   ]
  },
  {
   "cell_type": "markdown",
   "metadata": {},
   "source": [
    "# import MNIST dataset"
   ]
  },
  {
   "cell_type": "code",
   "execution_count": 2,
   "metadata": {},
   "outputs": [],
   "source": [
    "(x_train,y_train), (x_test, y_test)  = mnist.load_data()"
   ]
  },
  {
   "cell_type": "code",
   "execution_count": 3,
   "metadata": {},
   "outputs": [
    {
     "name": "stdout",
     "output_type": "stream",
     "text": [
      "(60000, 28, 28)\n",
      "(60000,)\n",
      "(10000, 28, 28)\n",
      "(10000,)\n",
      "[5 0 4 1 9]\n"
     ]
    }
   ],
   "source": [
    "print(x_train.shape)\n",
    "print(y_train.shape)\n",
    "print(x_test.shape)\n",
    "print(y_test.shape)\n",
    "print(y_train[:5])"
   ]
  },
  {
   "cell_type": "code",
   "execution_count": 4,
   "metadata": {},
   "outputs": [
    {
     "name": "stdout",
     "output_type": "stream",
     "text": [
      "28\n",
      "28\n"
     ]
    }
   ],
   "source": [
    "img_raw  = x_train[0].shape[0]\n",
    "img_col  = x_train[0].shape[1]\n",
    "print(img_raw)\n",
    "print(img_col)"
   ]
  },
  {
   "cell_type": "code",
   "execution_count": 5,
   "metadata": {},
   "outputs": [],
   "source": [
    "x_train = x_train.reshape(x_train.shape[0], img_raw, img_col,1)\n",
    "x_test = x_test.reshape(x_test.shape[0], img_raw, img_col,1)"
   ]
  },
  {
   "cell_type": "code",
   "execution_count": 6,
   "metadata": {},
   "outputs": [
    {
     "name": "stdout",
     "output_type": "stream",
     "text": [
      "(60000, 28, 28, 1)\n",
      "(10000, 28, 28, 1)\n"
     ]
    }
   ],
   "source": [
    "print(x_train.shape)\n",
    "print(x_test.shape)"
   ]
  },
  {
   "cell_type": "code",
   "execution_count": null,
   "metadata": {},
   "outputs": [],
   "source": [
    "x_train = x_train"
   ]
  },
  {
   "cell_type": "code",
   "execution_count": 7,
   "metadata": {},
   "outputs": [],
   "source": [
    "def plotImages(img_arr):\n",
    "    for img in img_arr:\n",
    "        plt.tight_layout()\n",
    "        plt.imshow(img)\n",
    "        plt.show()\n",
    "        "
   ]
  },
  {
   "cell_type": "code",
   "execution_count": 8,
   "metadata": {},
   "outputs": [
    {
     "data": {
      "image/png": "[encoded data removed]",
      "text/plain": [
       "<Figure size 432x288 with 1 Axes>"
      ]
     },
     "metadata": {
      "needs_background": "light"
     },
     "output_type": "display_data"
    },
    {
     "data": {
      "image/png": "[encoded data removed]",
      "text/plain": [
       "<Figure size 432x288 with 1 Axes>"
      ]
     },
     "metadata": {
      "needs_background": "light"
     },
     "output_type": "display_data"
    },
    {
     "data": {
      "image/png": "[encoded data removed]",
      "text/plain": [
       "<Figure size 432x288 with 1 Axes>"
      ]
     },
     "metadata": {
      "needs_background": "light"
     },
     "output_type": "display_data"
    }
   ],
   "source": [
    "plotImages(x_train[:3])"
   ]
  },
  {
   "cell_type": "code",
   "execution_count": 9,
   "metadata": {},
   "outputs": [],
   "source": [
    "model = Sequential()\n",
    "\n",
    "model.add(Conv2D(32, (5,5), activation=\"relu\", padding=\"same\", input_shape =(28,28,1)))\n",
    "\n",
    "model.add(MaxPooling2D(pool_size=(2,2), padding=\"same\"))\n",
    "\n",
    "model.add(Conv2D(32, (5,5), activation=\"relu\", padding=\"same\"))\n",
    "\n",
    "model.add(MaxPooling2D(pool_size=(2,2), padding=\"same\"))\n",
    "\n",
    "model.add(Flatten())\n",
    "\n",
    "model.add(Dense(1024, activation=\"relu\"))\n",
    "\n",
    "model.add(Dropout(0.4))\n",
    "\n",
    "model.add(Dense(10))\n",
    "\n"
   ]
  },
  {
   "cell_type": "code",
   "execution_count": 10,
   "metadata": {},
   "outputs": [
    {
     "name": "stdout",
     "output_type": "stream",
     "text": [
      "Model: \"sequential\"\n",
      "_________________________________________________________________\n",
      " Layer (type)                Output Shape              Param #   \n",
      "=================================================================\n",
      " conv2d (Conv2D)             (None, 28, 28, 32)        832       \n",
      "                                                                 \n",
      " max_pooling2d (MaxPooling2D  (None, 14, 14, 32)       0         \n",
      " )                                                               \n",
      "                                                                 \n",
      " conv2d_1 (Conv2D)           (None, 14, 14, 32)        25632     \n",
      "                                                                 \n",
      " max_pooling2d_1 (MaxPooling  (None, 7, 7, 32)         0         \n",
      " 2D)                                                             \n",
      "                                                                 \n",
      " flatten (Flatten)           (None, 1568)              0         \n",
      "                                                                 \n",
      " dense (Dense)               (None, 1024)              1606656   \n",
      "                                                                 \n",
      " dropout (Dropout)           (None, 1024)              0         \n",
      "                                                                 \n",
      " dense_1 (Dense)             (None, 10)                10250     \n",
      "                                                                 \n",
      "=================================================================\n",
      "Total params: 1,643,370\n",
      "Trainable params: 1,643,370\n",
      "Non-trainable params: 0\n",
      "_________________________________________________________________\n"
     ]
    }
   ],
   "source": [
    "model.summary()"
   ]
  },
  {
   "cell_type": "markdown",
   "metadata": {},
   "source": [
    "# Compile the  Neural Network"
   ]
  },
  {
   "cell_type": "code",
   "execution_count": 11,
   "metadata": {},
   "outputs": [],
   "source": [
    "model.compile(optimizer=Adam(),\n",
    "             loss= tf.keras.losses.SparseCategoricalCrossentropy(from_logits=True),\n",
    "             metrics=[\"sparse_categorical_accuracy\"])"
   ]
  },
  {
   "cell_type": "markdown",
   "metadata": {},
   "source": [
    "# Train the Neural Network"
   ]
  },
  {
   "cell_type": "code",
   "execution_count": 12,
   "metadata": {},
   "outputs": [],
   "source": [
    "batch_size = 200\n",
    "epochs = 100\n",
    "step_per_epochs = 54000//batch_size\n",
    "validation_steps  = 6000// batch_size"
   ]
  },
  {
   "cell_type": "code",
   "execution_count": 13,
   "metadata": {},
   "outputs": [
    {
     "name": "stdout",
     "output_type": "stream",
     "text": [
      "Epoch 1/100\n",
      "270/270 [==============================] - 7s 12ms/step - loss: 1.3093 - sparse_categorical_accuracy: 0.8734 - val_loss: 0.1010 - val_sparse_categorical_accuracy: 0.9687\n",
      "Epoch 2/100\n",
      "270/270 [==============================] - 3s 11ms/step - loss: 0.1077 - sparse_categorical_accuracy: 0.9667 - val_loss: 0.0740 - val_sparse_categorical_accuracy: 0.9778\n",
      "Epoch 3/100\n",
      "270/270 [==============================] - 5s 17ms/step - loss: 0.0715 - sparse_categorical_accuracy: 0.9771 - val_loss: 0.0596 - val_sparse_categorical_accuracy: 0.9825\n",
      "Epoch 4/100\n",
      "270/270 [==============================] - 4s 15ms/step - loss: 0.0558 - sparse_categorical_accuracy: 0.9823 - val_loss: 0.0547 - val_sparse_categorical_accuracy: 0.9842\n",
      "Epoch 5/100\n",
      "270/270 [==============================] - 4s 15ms/step - loss: 0.0431 - sparse_categorical_accuracy: 0.9860 - val_loss: 0.0609 - val_sparse_categorical_accuracy: 0.9850\n",
      "Epoch 6/100\n",
      "270/270 [==============================] - 5s 18ms/step - loss: 0.0383 - sparse_categorical_accuracy: 0.9875 - val_loss: 0.0573 - val_sparse_categorical_accuracy: 0.9847\n",
      "Epoch 7/100\n",
      "270/270 [==============================] - 5s 18ms/step - loss: 0.0305 - sparse_categorical_accuracy: 0.9899 - val_loss: 0.0518 - val_sparse_categorical_accuracy: 0.9862\n",
      "Epoch 8/100\n",
      "270/270 [==============================] - 4s 15ms/step - loss: 0.0293 - sparse_categorical_accuracy: 0.9900 - val_loss: 0.0650 - val_sparse_categorical_accuracy: 0.9840\n",
      "Epoch 9/100\n",
      "270/270 [==============================] - 4s 16ms/step - loss: 0.0297 - sparse_categorical_accuracy: 0.9898 - val_loss: 0.0565 - val_sparse_categorical_accuracy: 0.9867\n",
      "Epoch 10/100\n",
      "270/270 [==============================] - 5s 17ms/step - loss: 0.0298 - sparse_categorical_accuracy: 0.9906 - val_loss: 0.0541 - val_sparse_categorical_accuracy: 0.9868\n",
      "Epoch 11/100\n",
      "270/270 [==============================] - 4s 15ms/step - loss: 0.0214 - sparse_categorical_accuracy: 0.9930 - val_loss: 0.0450 - val_sparse_categorical_accuracy: 0.9903\n",
      "Epoch 12/100\n",
      "270/270 [==============================] - 4s 15ms/step - loss: 0.0198 - sparse_categorical_accuracy: 0.9934 - val_loss: 0.0613 - val_sparse_categorical_accuracy: 0.9868\n",
      "Epoch 13/100\n",
      "270/270 [==============================] - 3s 13ms/step - loss: 0.0253 - sparse_categorical_accuracy: 0.9918 - val_loss: 0.0587 - val_sparse_categorical_accuracy: 0.9873\n",
      "Epoch 14/100\n",
      "270/270 [==============================] - 5s 17ms/step - loss: 0.0253 - sparse_categorical_accuracy: 0.9919 - val_loss: 0.0558 - val_sparse_categorical_accuracy: 0.9888\n",
      "Epoch 15/100\n",
      "270/270 [==============================] - 5s 18ms/step - loss: 0.0203 - sparse_categorical_accuracy: 0.9937 - val_loss: 0.0573 - val_sparse_categorical_accuracy: 0.9890\n",
      "Epoch 16/100\n",
      "270/270 [==============================] - 4s 15ms/step - loss: 0.0215 - sparse_categorical_accuracy: 0.9933 - val_loss: 0.0633 - val_sparse_categorical_accuracy: 0.9893\n",
      "Epoch 17/100\n",
      "270/270 [==============================] - 4s 15ms/step - loss: 0.0237 - sparse_categorical_accuracy: 0.9929 - val_loss: 0.0604 - val_sparse_categorical_accuracy: 0.9878\n",
      "Epoch 18/100\n",
      "270/270 [==============================] - 4s 15ms/step - loss: 0.0198 - sparse_categorical_accuracy: 0.9939 - val_loss: 0.0650 - val_sparse_categorical_accuracy: 0.9893\n",
      "Epoch 19/100\n",
      "270/270 [==============================] - 4s 15ms/step - loss: 0.0223 - sparse_categorical_accuracy: 0.9933 - val_loss: 0.0562 - val_sparse_categorical_accuracy: 0.9903\n",
      "Epoch 20/100\n",
      "270/270 [==============================] - 5s 18ms/step - loss: 0.0185 - sparse_categorical_accuracy: 0.9943 - val_loss: 0.0638 - val_sparse_categorical_accuracy: 0.9878\n",
      "Epoch 21/100\n",
      "270/270 [==============================] - 5s 18ms/step - loss: 0.0272 - sparse_categorical_accuracy: 0.9922 - val_loss: 0.0703 - val_sparse_categorical_accuracy: 0.9875\n",
      "Epoch 22/100\n",
      "270/270 [==============================] - 4s 13ms/step - loss: 0.0200 - sparse_categorical_accuracy: 0.9942 - val_loss: 0.1137 - val_sparse_categorical_accuracy: 0.9815\n",
      "Epoch 23/100\n",
      "270/270 [==============================] - 4s 15ms/step - loss: 0.0205 - sparse_categorical_accuracy: 0.9941 - val_loss: 0.0851 - val_sparse_categorical_accuracy: 0.9867\n",
      "Epoch 24/100\n",
      "270/270 [==============================] - 3s 13ms/step - loss: 0.0214 - sparse_categorical_accuracy: 0.9940 - val_loss: 0.0681 - val_sparse_categorical_accuracy: 0.9897\n",
      "Epoch 25/100\n",
      "270/270 [==============================] - 5s 18ms/step - loss: 0.0203 - sparse_categorical_accuracy: 0.9944 - val_loss: 0.0839 - val_sparse_categorical_accuracy: 0.9893\n",
      "Epoch 26/100\n",
      "270/270 [==============================] - 4s 15ms/step - loss: 0.0262 - sparse_categorical_accuracy: 0.9928 - val_loss: 0.0691 - val_sparse_categorical_accuracy: 0.9903\n"
     ]
    }
   ],
   "source": [
    "early_stopping = EarlyStopping(monitor=\"val_loss\",\n",
    "                              patience=15,\n",
    "                              restore_best_weights=True)\n",
    "\n",
    "model_history = model.fit(x_train, y_train, batch_size = batch_size, epochs=epochs, \n",
    "                          steps_per_epoch = step_per_epochs, validation_split=0.1,\n",
    "                          validation_steps=validation_steps, callbacks = [early_stopping]) "
   ]
  },
  {
   "cell_type": "markdown",
   "metadata": {},
   "source": [
    "# Plot the accuracy of the model during training"
   ]
  },
  {
   "cell_type": "code",
   "execution_count": 20,
   "metadata": {},
   "outputs": [
    {
     "data": {
      "image/png": "[encoded data removed]",
      "text/plain": [
       "<Figure size 432x288 with 1 Axes>"
      ]
     },
     "metadata": {
      "needs_background": "light"
     },
     "output_type": "display_data"
    }
   ],
   "source": [
    "plt.plot(model_history.history[\"sparse_categorical_accuracy\"])\n",
    "plt.plot(model_history.history[\"val_sparse_categorical_accuracy\"])\n",
    "plt.title(\"Model Accuraccy\")\n",
    "plt.ylabel(\"Sparse_categorical_accuracy\")\n",
    "plt.xlabel(\"Epochs\")\n",
    "plt.legend([\"Training\", \"Validation\"], loc= \"lower right\")\n",
    "plt.show()"
   ]
  },
  {
   "cell_type": "markdown",
   "metadata": {},
   "source": [
    "# Plot the loss of the model during training"
   ]
  },
  {
   "cell_type": "code",
   "execution_count": 22,
   "metadata": {},
   "outputs": [
    {
     "data": {
      "image/png": "[encoded data removed]",
      "text/plain": [
       "<Figure size 432x288 with 1 Axes>"
      ]
     },
     "metadata": {
      "needs_background": "light"
     },
     "output_type": "display_data"
    }
   ],
   "source": [
    "plt.plot(model_history.history[\"loss\"])\n",
    "plt.plot(model_history.history[\"val_loss\"])\n",
    "plt.title(\"Model Accuraccy\")\n",
    "plt.ylabel(\"Sparse_categorical_accuracy\")\n",
    "plt.xlabel(\"Epochs\")\n",
    "plt.legend([\"Training\", \"Validation\"], loc= \"upper right\")\n",
    "plt.show()"
   ]
  },
  {
   "cell_type": "markdown",
   "metadata": {},
   "source": [
    "# Evaluate the best model with testing data"
   ]
  },
  {
   "cell_type": "code",
   "execution_count": 23,
   "metadata": {},
   "outputs": [
    {
     "name": "stdout",
     "output_type": "stream",
     "text": [
      "313/313 [==============================] - 2s 5ms/step - loss: 0.0486 - sparse_categorical_accuracy: 0.9866\n",
      "[0.04855047166347504, 0.9865999817848206]\n"
     ]
    }
   ],
   "source": [
    "print(model.evaluate(x_test,y_test))"
   ]
  },
  {
   "cell_type": "code",
   "execution_count": 24,
   "metadata": {},
   "outputs": [
    {
     "data": {
      "image/png": "[encoded data removed]",
      "text/plain": [
       "<Figure size 432x288 with 1 Axes>"
      ]
     },
     "metadata": {
      "needs_background": "light"
     },
     "output_type": "display_data"
    },
    {
     "data": {
      "image/png": "[encoded data removed]",
      "text/plain": [
       "<Figure size 432x288 with 1 Axes>"
      ]
     },
     "metadata": {
      "needs_background": "light"
     },
     "output_type": "display_data"
    },
    {
     "data": {
      "image/png": "[encoded data removed]",
      "text/plain": [
       "<Figure size 432x288 with 1 Axes>"
      ]
     },
     "metadata": {
      "needs_background": "light"
     },
     "output_type": "display_data"
    },
    {
     "data": {
      "image/png": "[encoded data removed]",
      "text/plain": [
       "<Figure size 432x288 with 1 Axes>"
      ]
     },
     "metadata": {
      "needs_background": "light"
     },
     "output_type": "display_data"
    },
    {
     "data": {
      "image/png": "[encoded data removed]",
      "text/plain": [
       "<Figure size 432x288 with 1 Axes>"
      ]
     },
     "metadata": {
      "needs_background": "light"
     },
     "output_type": "display_data"
    }
   ],
   "source": [
    "plotImages(x_test[:5])"
   ]
  },
  {
   "cell_type": "code",
   "execution_count": 25,
   "metadata": {},
   "outputs": [
    {
     "name": "stdout",
     "output_type": "stream",
     "text": [
      "[7 2 1 0 4 1 4 9 5 9]\n"
     ]
    }
   ],
   "source": [
    "predictions = np.argmax(model.predict(x_test[:10]), axis=1)\n",
    "print(predictions)"
   ]
  },
  {
   "cell_type": "code",
   "execution_count": 26,
   "metadata": {},
   "outputs": [],
   "source": [
    "# model.save(\"models/acc_986_loss_048.h5\")"
   ]
  },
  {
   "cell_type": "code",
   "execution_count": null,
   "metadata": {},
   "outputs": [],
   "source": []
  }
 ],
 "metadata": {
  "interpreter": {
   "hash": "0bdd4b33f38ae2ede137810308b66f18a08e0b092d6f5efa3983f33b810f448e"
  },
  "kernelspec": {
   "display_name": "Python 3 (ipykernel)",
   "language": "python",
   "name": "python3"
  },
  "language_info": {
   "codemirror_mode": {
    "name": "ipython",
    "version": 3
   },
   "file_extension": ".py",
   "mimetype": "text/x-python",
   "name": "python",
   "nbconvert_exporter": "python",
   "pygments_lexer": "ipython3",
   "version": "3.9.7"
  }
 },
 "nbformat": 4,
 "nbformat_minor": 4
}
